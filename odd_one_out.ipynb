{
  "nbformat": 4,
  "nbformat_minor": 0,
  "metadata": {
    "colab": {
      "name": "odd_one_out.ipynb",
      "provenance": []
    },
    "kernelspec": {
      "name": "python3",
      "display_name": "Python 3"
    }
  },
  "cells": [
    {
      "cell_type": "code",
      "metadata": {
        "id": "j9cLmvGN-dAt",
        "colab_type": "code",
        "colab": {
          "base_uri": "https://localhost:8080/",
          "height": 212
        },
        "outputId": "d4eabd71-3839-42da-adfe-b9ab800acde1"
      },
      "source": [
        "!wget \"https://s3.amazonaws.com/dl4j-distribution/GoogleNews-vectors-negative300.bin.gz\""
      ],
      "execution_count": 1,
      "outputs": [
        {
          "output_type": "stream",
          "text": [
            "--2020-08-01 17:03:58--  https://s3.amazonaws.com/dl4j-distribution/GoogleNews-vectors-negative300.bin.gz\n",
            "Resolving s3.amazonaws.com (s3.amazonaws.com)... 52.216.95.165\n",
            "Connecting to s3.amazonaws.com (s3.amazonaws.com)|52.216.95.165|:443... connected.\n",
            "HTTP request sent, awaiting response... 200 OK\n",
            "Length: 1647046227 (1.5G) [application/x-gzip]\n",
            "Saving to: ‘GoogleNews-vectors-negative300.bin.gz’\n",
            "\n",
            "GoogleNews-vectors- 100%[===================>]   1.53G  32.0MB/s    in 50s     \n",
            "\n",
            "2020-08-01 17:04:48 (31.6 MB/s) - ‘GoogleNews-vectors-negative300.bin.gz’ saved [1647046227/1647046227]\n",
            "\n"
          ],
          "name": "stdout"
        }
      ]
    },
    {
      "cell_type": "code",
      "metadata": {
        "id": "K2QfA-fV-vJV",
        "colab_type": "code",
        "colab": {}
      },
      "source": [
        "import gensim\n",
        "from gensim.models import word2vec\n",
        "from gensim.models import KeyedVectors\n",
        "from sklearn.metrics.pairwise import cosine_similarity"
      ],
      "execution_count": 8,
      "outputs": []
    },
    {
      "cell_type": "code",
      "metadata": {
        "id": "-I1Da76cAv6p",
        "colab_type": "code",
        "colab": {
          "base_uri": "https://localhost:8080/",
          "height": 141
        },
        "outputId": "0f8c36c0-649c-4e6d-ca26-5cc743c8e319"
      },
      "source": [
        ""
      ],
      "execution_count": 10,
      "outputs": [
        {
          "output_type": "stream",
          "text": [
            "Archive:  /content/GoogleNews-vectors-negative300.bin.gz\n",
            "  End-of-central-directory signature not found.  Either this file is not\n",
            "  a zipfile, or it constitutes one disk of a multi-part archive.  In the\n",
            "  latter case the central directory and zipfile comment will be found on\n",
            "  the last disk(s) of this archive.\n",
            "unzip:  cannot find zipfile directory in one of /content/GoogleNews-vectors-negative300.bin.gz or\n",
            "        /content/GoogleNews-vectors-negative300.bin.gz.zip, and cannot find /content/GoogleNews-vectors-negative300.bin.gz.ZIP, period.\n"
          ],
          "name": "stdout"
        }
      ]
    },
    {
      "cell_type": "code",
      "metadata": {
        "id": "IWsTU7gUAbT9",
        "colab_type": "code",
        "colab": {
          "base_uri": "https://localhost:8080/",
          "height": 72
        },
        "outputId": "ea725165-aa7c-46e6-d474-08aaa8ca5375"
      },
      "source": [
        "word_vectors = KeyedVectors.load_word2vec_format(\"/content/GoogleNews-vectors-negative300.bin.gz\",binary = True)\n"
      ],
      "execution_count": 11,
      "outputs": [
        {
          "output_type": "stream",
          "text": [
            "/usr/local/lib/python3.6/dist-packages/smart_open/smart_open_lib.py:254: UserWarning: This function is deprecated, use smart_open.open instead. See the migration notes for details: https://github.com/RaRe-Technologies/smart_open/blob/master/README.rst#migrating-to-the-new-open-function\n",
            "  'See the migration notes for details: %s' % _MIGRATION_NOTES_URL\n"
          ],
          "name": "stderr"
        }
      ]
    },
    {
      "cell_type": "code",
      "metadata": {
        "id": "3azzfWOr-xpx",
        "colab_type": "code",
        "colab": {}
      },
      "source": [
        "v_mango = word_vectors[\"mango\"]\n",
        "v_grapes = word_vectors[\"grapes\"]\n",
        "cosine_similarity([v_mango],[v_grapes])"
      ],
      "execution_count": null,
      "outputs": []
    },
    {
      "cell_type": "code",
      "metadata": {
        "id": "9XCvc-Y-EJi0",
        "colab_type": "code",
        "colab": {}
      },
      "source": [
        "import numpy as np"
      ],
      "execution_count": 17,
      "outputs": []
    },
    {
      "cell_type": "code",
      "metadata": {
        "id": "9yt7Cx9tC1PE",
        "colab_type": "code",
        "colab": {}
      },
      "source": [
        "input_1 = [\"apple\",\"mango\",\"juice\",\"party\",\"orange\"] \n",
        "input_2 = [\"music\",\"dance\",\"sleep\",\"dancer\",\"food\"]        \n",
        "input_3  = [\"match\",\"player\",\"football\",\"cricket\",\"dancer\"]\n",
        "input_4 = [\"india\",\"paris\",\"russia\",\"france\",\"germany\"]"
      ],
      "execution_count": 14,
      "outputs": []
    },
    {
      "cell_type": "code",
      "metadata": {
        "id": "L4P1ItaKC2XK",
        "colab_type": "code",
        "colab": {}
      },
      "source": [
        "def odd_one_out(words):\n",
        "  all_word_vec = [word_vectors[w] for w in words]\n",
        "  avg_vec = np.mean(all_word_vec,axis = 0)\n",
        "  odd_one = None\n",
        "  min_sim = 1.0\n",
        "  for w in words:\n",
        "    sim = cosine_similarity([word_vectors[w]],[avg_vec])\n",
        "    if sim<min_sim:\n",
        "      min_sim=sim\n",
        "      odd_one = w\n",
        "  return odd_one"
      ],
      "execution_count": 29,
      "outputs": []
    },
    {
      "cell_type": "code",
      "metadata": {
        "id": "qjS6NNlKEAxY",
        "colab_type": "code",
        "colab": {
          "base_uri": "https://localhost:8080/",
          "height": 36
        },
        "outputId": "6150b238-4f8b-40ec-fea1-d79d61c34b21"
      },
      "source": [
        "odd_one_out(input_1)"
      ],
      "execution_count": 30,
      "outputs": [
        {
          "output_type": "execute_result",
          "data": {
            "application/vnd.google.colaboratory.intrinsic+json": {
              "type": "string"
            },
            "text/plain": [
              "'party'"
            ]
          },
          "metadata": {
            "tags": []
          },
          "execution_count": 30
        }
      ]
    },
    {
      "cell_type": "code",
      "metadata": {
        "id": "2pd-f471GKVN",
        "colab_type": "code",
        "colab": {
          "base_uri": "https://localhost:8080/",
          "height": 36
        },
        "outputId": "56495420-7193-40b3-85e2-bfda467bb430"
      },
      "source": [
        "odd_one_out(input_2)"
      ],
      "execution_count": 31,
      "outputs": [
        {
          "output_type": "execute_result",
          "data": {
            "application/vnd.google.colaboratory.intrinsic+json": {
              "type": "string"
            },
            "text/plain": [
              "'sleep'"
            ]
          },
          "metadata": {
            "tags": []
          },
          "execution_count": 31
        }
      ]
    },
    {
      "cell_type": "code",
      "metadata": {
        "id": "ZuyHx07AGNwO",
        "colab_type": "code",
        "colab": {
          "base_uri": "https://localhost:8080/",
          "height": 36
        },
        "outputId": "b3423242-0eeb-40a9-e055-e15e46d3e64a"
      },
      "source": [
        "odd_one_out(input_3)"
      ],
      "execution_count": 32,
      "outputs": [
        {
          "output_type": "execute_result",
          "data": {
            "application/vnd.google.colaboratory.intrinsic+json": {
              "type": "string"
            },
            "text/plain": [
              "'dancer'"
            ]
          },
          "metadata": {
            "tags": []
          },
          "execution_count": 32
        }
      ]
    },
    {
      "cell_type": "code",
      "metadata": {
        "id": "pqm_s_DeGQIW",
        "colab_type": "code",
        "colab": {
          "base_uri": "https://localhost:8080/",
          "height": 36
        },
        "outputId": "b6bf0c25-f8b3-40fb-b6c3-131a294dce3a"
      },
      "source": [
        "odd_one_out(input_4) #paris is different because its not a a country"
      ],
      "execution_count": 33,
      "outputs": [
        {
          "output_type": "execute_result",
          "data": {
            "application/vnd.google.colaboratory.intrinsic+json": {
              "type": "string"
            },
            "text/plain": [
              "'paris'"
            ]
          },
          "metadata": {
            "tags": []
          },
          "execution_count": 33
        }
      ]
    }
  ]
}